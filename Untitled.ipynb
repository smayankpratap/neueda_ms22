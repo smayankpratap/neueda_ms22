{
 "cells": [
  {
   "cell_type": "code",
   "execution_count": 1,
   "metadata": {},
   "outputs": [],
   "source": [
    "import pandas as pd\n",
    "import numpy as np"
   ]
  },
  {
   "cell_type": "code",
   "execution_count": 10,
   "metadata": {},
   "outputs": [],
   "source": [
    "df = pd.read_csv('https://s3.eu-west-1.amazonaws.com/neueda.conygre.com/pydata/SPX.csv', index_col='Date', parse_dates=True)"
   ]
  },
  {
   "cell_type": "code",
   "execution_count": 3,
   "metadata": {},
   "outputs": [
    {
     "data": {
      "text/html": [
       "<div>\n",
       "<style scoped>\n",
       "    .dataframe tbody tr th:only-of-type {\n",
       "        vertical-align: middle;\n",
       "    }\n",
       "\n",
       "    .dataframe tbody tr th {\n",
       "        vertical-align: top;\n",
       "    }\n",
       "\n",
       "    .dataframe thead th {\n",
       "        text-align: right;\n",
       "    }\n",
       "</style>\n",
       "<table border=\"1\" class=\"dataframe\">\n",
       "  <thead>\n",
       "    <tr style=\"text-align: right;\">\n",
       "      <th></th>\n",
       "      <th>Price</th>\n",
       "      <th>Open</th>\n",
       "      <th>High</th>\n",
       "      <th>Low</th>\n",
       "      <th>Change %</th>\n",
       "    </tr>\n",
       "    <tr>\n",
       "      <th>Date</th>\n",
       "      <th></th>\n",
       "      <th></th>\n",
       "      <th></th>\n",
       "      <th></th>\n",
       "      <th></th>\n",
       "    </tr>\n",
       "  </thead>\n",
       "  <tbody>\n",
       "    <tr>\n",
       "      <th>2017-12-29</th>\n",
       "      <td>2,673.61</td>\n",
       "      <td>2,689.15</td>\n",
       "      <td>2,692.12</td>\n",
       "      <td>2,673.61</td>\n",
       "      <td>-0.52%</td>\n",
       "    </tr>\n",
       "    <tr>\n",
       "      <th>2017-12-28</th>\n",
       "      <td>2,687.54</td>\n",
       "      <td>2,686.10</td>\n",
       "      <td>2,687.66</td>\n",
       "      <td>2,682.69</td>\n",
       "      <td>0.18%</td>\n",
       "    </tr>\n",
       "    <tr>\n",
       "      <th>2017-12-27</th>\n",
       "      <td>2,682.62</td>\n",
       "      <td>2,682.10</td>\n",
       "      <td>2,685.64</td>\n",
       "      <td>2,678.91</td>\n",
       "      <td>0.08%</td>\n",
       "    </tr>\n",
       "    <tr>\n",
       "      <th>2017-12-26</th>\n",
       "      <td>2,680.50</td>\n",
       "      <td>2,679.09</td>\n",
       "      <td>2,682.74</td>\n",
       "      <td>2,677.96</td>\n",
       "      <td>-0.11%</td>\n",
       "    </tr>\n",
       "    <tr>\n",
       "      <th>2017-12-22</th>\n",
       "      <td>2,683.34</td>\n",
       "      <td>2,684.22</td>\n",
       "      <td>2,685.35</td>\n",
       "      <td>2,678.13</td>\n",
       "      <td>-0.05%</td>\n",
       "    </tr>\n",
       "  </tbody>\n",
       "</table>\n",
       "</div>"
      ],
      "text/plain": [
       "               Price      Open      High       Low Change %\n",
       "Date                                                       \n",
       "2017-12-29  2,673.61  2,689.15  2,692.12  2,673.61   -0.52%\n",
       "2017-12-28  2,687.54  2,686.10  2,687.66  2,682.69    0.18%\n",
       "2017-12-27  2,682.62  2,682.10  2,685.64  2,678.91    0.08%\n",
       "2017-12-26  2,680.50  2,679.09  2,682.74  2,677.96   -0.11%\n",
       "2017-12-22  2,683.34  2,684.22  2,685.35  2,678.13   -0.05%"
      ]
     },
     "execution_count": 3,
     "metadata": {},
     "output_type": "execute_result"
    }
   ],
   "source": [
    "df.head()"
   ]
  },
  {
   "cell_type": "code",
   "execution_count": 11,
   "metadata": {},
   "outputs": [
    {
     "name": "stdout",
     "output_type": "stream",
     "text": [
      "<class 'pandas.core.frame.DataFrame'>\n",
      "DatetimeIndex: 3017 entries, 2017-12-29 to 2006-01-04\n",
      "Data columns (total 5 columns):\n",
      " #   Column    Non-Null Count  Dtype \n",
      "---  ------    --------------  ----- \n",
      " 0   Price     3017 non-null   object\n",
      " 1   Open      3017 non-null   object\n",
      " 2   High      3017 non-null   object\n",
      " 3   Low       3017 non-null   object\n",
      " 4   Change %  3017 non-null   object\n",
      "dtypes: object(5)\n",
      "memory usage: 141.4+ KB\n"
     ]
    }
   ],
   "source": [
    "df.info()"
   ]
  },
  {
   "cell_type": "code",
   "execution_count": 12,
   "metadata": {},
   "outputs": [],
   "source": [
    "# cols = ['Price', 'Open', 'High', 'Low', 'Change %']\n",
    "# df[cols] = pd.to_numeric(df[cols].stack(), errors='coerce').unstack()\n",
    "\n",
    "# or\n",
    "\n",
    "df['Price'] = pd.to_numeric(df['Price'].str.replace(',', ''))\n",
    "df['Open'] = pd.to_numeric(df['Open'].str.replace(',', ''))\n",
    "df['High'] = pd.to_numeric(df['High'].str.replace(',', ''))\n",
    "df['Low'] = pd.to_numeric(df['Low'].str.replace(',', ''))\n",
    "df['Change %'] = pd.to_numeric(df['Change %'].str.replace('%', ''))"
   ]
  },
  {
   "cell_type": "code",
   "execution_count": 18,
   "metadata": {},
   "outputs": [
    {
     "name": "stdout",
     "output_type": "stream",
     "text": [
      "<class 'pandas.core.frame.DataFrame'>\n",
      "DatetimeIndex: 3017 entries, 2017-12-29 to 2006-01-04\n",
      "Data columns (total 5 columns):\n",
      " #   Column    Non-Null Count  Dtype  \n",
      "---  ------    --------------  -----  \n",
      " 0   Price     3017 non-null   float64\n",
      " 1   Open      3017 non-null   float64\n",
      " 2   High      3017 non-null   float64\n",
      " 3   Low       3017 non-null   float64\n",
      " 4   Change %  3017 non-null   float64\n",
      "dtypes: float64(5)\n",
      "memory usage: 141.4 KB\n"
     ]
    },
    {
     "data": {
      "text/html": [
       "<div>\n",
       "<style scoped>\n",
       "    .dataframe tbody tr th:only-of-type {\n",
       "        vertical-align: middle;\n",
       "    }\n",
       "\n",
       "    .dataframe tbody tr th {\n",
       "        vertical-align: top;\n",
       "    }\n",
       "\n",
       "    .dataframe thead th {\n",
       "        text-align: right;\n",
       "    }\n",
       "</style>\n",
       "<table border=\"1\" class=\"dataframe\">\n",
       "  <thead>\n",
       "    <tr style=\"text-align: right;\">\n",
       "      <th></th>\n",
       "      <th>Price</th>\n",
       "      <th>Open</th>\n",
       "      <th>High</th>\n",
       "      <th>Low</th>\n",
       "      <th>Change %</th>\n",
       "    </tr>\n",
       "    <tr>\n",
       "      <th>Date</th>\n",
       "      <th></th>\n",
       "      <th></th>\n",
       "      <th></th>\n",
       "      <th></th>\n",
       "      <th></th>\n",
       "    </tr>\n",
       "  </thead>\n",
       "  <tbody>\n",
       "    <tr>\n",
       "      <th>2017-12-29</th>\n",
       "      <td>2673.61</td>\n",
       "      <td>2689.15</td>\n",
       "      <td>2692.12</td>\n",
       "      <td>2673.61</td>\n",
       "      <td>-0.52</td>\n",
       "    </tr>\n",
       "    <tr>\n",
       "      <th>2017-12-28</th>\n",
       "      <td>2687.54</td>\n",
       "      <td>2686.10</td>\n",
       "      <td>2687.66</td>\n",
       "      <td>2682.69</td>\n",
       "      <td>0.18</td>\n",
       "    </tr>\n",
       "    <tr>\n",
       "      <th>2017-12-27</th>\n",
       "      <td>2682.62</td>\n",
       "      <td>2682.10</td>\n",
       "      <td>2685.64</td>\n",
       "      <td>2678.91</td>\n",
       "      <td>0.08</td>\n",
       "    </tr>\n",
       "    <tr>\n",
       "      <th>2017-12-26</th>\n",
       "      <td>2680.50</td>\n",
       "      <td>2679.09</td>\n",
       "      <td>2682.74</td>\n",
       "      <td>2677.96</td>\n",
       "      <td>-0.11</td>\n",
       "    </tr>\n",
       "    <tr>\n",
       "      <th>2017-12-22</th>\n",
       "      <td>2683.34</td>\n",
       "      <td>2684.22</td>\n",
       "      <td>2685.35</td>\n",
       "      <td>2678.13</td>\n",
       "      <td>-0.05</td>\n",
       "    </tr>\n",
       "  </tbody>\n",
       "</table>\n",
       "</div>"
      ],
      "text/plain": [
       "              Price     Open     High      Low  Change %\n",
       "Date                                                    \n",
       "2017-12-29  2673.61  2689.15  2692.12  2673.61     -0.52\n",
       "2017-12-28  2687.54  2686.10  2687.66  2682.69      0.18\n",
       "2017-12-27  2682.62  2682.10  2685.64  2678.91      0.08\n",
       "2017-12-26  2680.50  2679.09  2682.74  2677.96     -0.11\n",
       "2017-12-22  2683.34  2684.22  2685.35  2678.13     -0.05"
      ]
     },
     "execution_count": 18,
     "metadata": {},
     "output_type": "execute_result"
    }
   ],
   "source": [
    "df.info()\n",
    "df.head()"
   ]
  },
  {
   "cell_type": "code",
   "execution_count": 20,
   "metadata": {
    "scrolled": true
   },
   "outputs": [
    {
     "data": {
      "text/html": [
       "<div>\n",
       "<style scoped>\n",
       "    .dataframe tbody tr th:only-of-type {\n",
       "        vertical-align: middle;\n",
       "    }\n",
       "\n",
       "    .dataframe tbody tr th {\n",
       "        vertical-align: top;\n",
       "    }\n",
       "\n",
       "    .dataframe thead th {\n",
       "        text-align: right;\n",
       "    }\n",
       "</style>\n",
       "<table border=\"1\" class=\"dataframe\">\n",
       "  <thead>\n",
       "    <tr style=\"text-align: right;\">\n",
       "      <th></th>\n",
       "      <th>Price</th>\n",
       "      <th>Open</th>\n",
       "      <th>High</th>\n",
       "      <th>Low</th>\n",
       "      <th>Change %</th>\n",
       "    </tr>\n",
       "    <tr>\n",
       "      <th>Date</th>\n",
       "      <th></th>\n",
       "      <th></th>\n",
       "      <th></th>\n",
       "      <th></th>\n",
       "      <th></th>\n",
       "    </tr>\n",
       "  </thead>\n",
       "  <tbody>\n",
       "    <tr>\n",
       "      <th>2006-01-04</th>\n",
       "      <td>1273.46</td>\n",
       "      <td>1268.80</td>\n",
       "      <td>1275.37</td>\n",
       "      <td>1267.74</td>\n",
       "      <td>0.37</td>\n",
       "    </tr>\n",
       "    <tr>\n",
       "      <th>2006-01-05</th>\n",
       "      <td>1273.48</td>\n",
       "      <td>1273.46</td>\n",
       "      <td>1276.91</td>\n",
       "      <td>1270.30</td>\n",
       "      <td>0.00</td>\n",
       "    </tr>\n",
       "    <tr>\n",
       "      <th>2006-01-06</th>\n",
       "      <td>1285.45</td>\n",
       "      <td>1273.48</td>\n",
       "      <td>1286.09</td>\n",
       "      <td>1273.48</td>\n",
       "      <td>0.94</td>\n",
       "    </tr>\n",
       "    <tr>\n",
       "      <th>2006-01-09</th>\n",
       "      <td>1290.15</td>\n",
       "      <td>1285.45</td>\n",
       "      <td>1290.78</td>\n",
       "      <td>1284.82</td>\n",
       "      <td>0.37</td>\n",
       "    </tr>\n",
       "    <tr>\n",
       "      <th>2006-01-10</th>\n",
       "      <td>1289.69</td>\n",
       "      <td>1290.15</td>\n",
       "      <td>1290.15</td>\n",
       "      <td>1283.76</td>\n",
       "      <td>-0.04</td>\n",
       "    </tr>\n",
       "  </tbody>\n",
       "</table>\n",
       "</div>"
      ],
      "text/plain": [
       "              Price     Open     High      Low  Change %\n",
       "Date                                                    \n",
       "2006-01-04  1273.46  1268.80  1275.37  1267.74      0.37\n",
       "2006-01-05  1273.48  1273.46  1276.91  1270.30      0.00\n",
       "2006-01-06  1285.45  1273.48  1286.09  1273.48      0.94\n",
       "2006-01-09  1290.15  1285.45  1290.78  1284.82      0.37\n",
       "2006-01-10  1289.69  1290.15  1290.15  1283.76     -0.04"
      ]
     },
     "execution_count": 20,
     "metadata": {},
     "output_type": "execute_result"
    }
   ],
   "source": [
    "# sorting the dataframe in chronological order\n",
    "df.sort_index(inplace=True)\n",
    "df.head()"
   ]
  },
  {
   "cell_type": "code",
   "execution_count": 21,
   "metadata": {},
   "outputs": [
    {
     "data": {
      "text/html": [
       "<div>\n",
       "<style scoped>\n",
       "    .dataframe tbody tr th:only-of-type {\n",
       "        vertical-align: middle;\n",
       "    }\n",
       "\n",
       "    .dataframe tbody tr th {\n",
       "        vertical-align: top;\n",
       "    }\n",
       "\n",
       "    .dataframe thead th {\n",
       "        text-align: right;\n",
       "    }\n",
       "</style>\n",
       "<table border=\"1\" class=\"dataframe\">\n",
       "  <thead>\n",
       "    <tr style=\"text-align: right;\">\n",
       "      <th></th>\n",
       "      <th>Price</th>\n",
       "      <th>Open</th>\n",
       "      <th>High</th>\n",
       "      <th>Low</th>\n",
       "      <th>Change %</th>\n",
       "    </tr>\n",
       "  </thead>\n",
       "  <tbody>\n",
       "    <tr>\n",
       "      <th>count</th>\n",
       "      <td>3017.000000</td>\n",
       "      <td>3017.000000</td>\n",
       "      <td>3017.000000</td>\n",
       "      <td>3017.000000</td>\n",
       "      <td>3017.000000</td>\n",
       "    </tr>\n",
       "    <tr>\n",
       "      <th>mean</th>\n",
       "      <td>1576.930597</td>\n",
       "      <td>1576.562337</td>\n",
       "      <td>1585.094839</td>\n",
       "      <td>1567.404445</td>\n",
       "      <td>0.032105</td>\n",
       "    </tr>\n",
       "    <tr>\n",
       "      <th>std</th>\n",
       "      <td>450.029412</td>\n",
       "      <td>449.869900</td>\n",
       "      <td>449.078688</td>\n",
       "      <td>450.705886</td>\n",
       "      <td>1.223285</td>\n",
       "    </tr>\n",
       "    <tr>\n",
       "      <th>min</th>\n",
       "      <td>676.530000</td>\n",
       "      <td>679.280000</td>\n",
       "      <td>695.270000</td>\n",
       "      <td>666.790000</td>\n",
       "      <td>-9.030000</td>\n",
       "    </tr>\n",
       "    <tr>\n",
       "      <th>25%</th>\n",
       "      <td>1266.690000</td>\n",
       "      <td>1266.670000</td>\n",
       "      <td>1274.560000</td>\n",
       "      <td>1259.420000</td>\n",
       "      <td>-0.390000</td>\n",
       "    </tr>\n",
       "    <tr>\n",
       "      <th>50%</th>\n",
       "      <td>1428.610000</td>\n",
       "      <td>1428.650000</td>\n",
       "      <td>1437.650000</td>\n",
       "      <td>1422.340000</td>\n",
       "      <td>0.060000</td>\n",
       "    </tr>\n",
       "    <tr>\n",
       "      <th>75%</th>\n",
       "      <td>1986.510000</td>\n",
       "      <td>1985.320000</td>\n",
       "      <td>1993.480000</td>\n",
       "      <td>1975.670000</td>\n",
       "      <td>0.540000</td>\n",
       "    </tr>\n",
       "    <tr>\n",
       "      <th>max</th>\n",
       "      <td>2690.160000</td>\n",
       "      <td>2692.710000</td>\n",
       "      <td>2694.970000</td>\n",
       "      <td>2685.920000</td>\n",
       "      <td>11.580000</td>\n",
       "    </tr>\n",
       "  </tbody>\n",
       "</table>\n",
       "</div>"
      ],
      "text/plain": [
       "             Price         Open         High          Low     Change %\n",
       "count  3017.000000  3017.000000  3017.000000  3017.000000  3017.000000\n",
       "mean   1576.930597  1576.562337  1585.094839  1567.404445     0.032105\n",
       "std     450.029412   449.869900   449.078688   450.705886     1.223285\n",
       "min     676.530000   679.280000   695.270000   666.790000    -9.030000\n",
       "25%    1266.690000  1266.670000  1274.560000  1259.420000    -0.390000\n",
       "50%    1428.610000  1428.650000  1437.650000  1422.340000     0.060000\n",
       "75%    1986.510000  1985.320000  1993.480000  1975.670000     0.540000\n",
       "max    2690.160000  2692.710000  2694.970000  2685.920000    11.580000"
      ]
     },
     "execution_count": 21,
     "metadata": {},
     "output_type": "execute_result"
    }
   ],
   "source": [
    "df.describe()"
   ]
  },
  {
   "cell_type": "code",
   "execution_count": 25,
   "metadata": {},
   "outputs": [],
   "source": [
    "import matplotlib.pyplot as plt\n",
    "\n",
    "rows = 'Date >= \"2015-06-01\" and Date <= \"2016-06-30\"'\n",
    "cols = ['High', 'Low']\n",
    "\n",
    "fig = df.query(rows)[cols]"
   ]
  },
  {
   "cell_type": "code",
   "execution_count": 26,
   "metadata": {},
   "outputs": [
    {
     "data": {
      "text/plain": [
       "[<matplotlib.lines.Line2D at 0xe5e7858438>,\n",
       " <matplotlib.lines.Line2D at 0xe5e80169b0>]"
      ]
     },
     "execution_count": 26,
     "metadata": {},
     "output_type": "execute_result"
    },
    {
     "data": {
      "image/png": "[encoded data removed]",
      "text/plain": [
       "<Figure size 432x288 with 1 Axes>"
      ]
     },
     "metadata": {
      "needs_background": "light"
     },
     "output_type": "display_data"
    }
   ],
   "source": [
    "plt.plot(fig)"
   ]
  }
 ],
 "metadata": {
  "kernelspec": {
   "display_name": "Python 3",
   "language": "python",
   "name": "python3"
  },
  "language_info": {
   "codemirror_mode": {
    "name": "ipython",
    "version": 3
   },
   "file_extension": ".py",
   "mimetype": "text/x-python",
   "name": "python",
   "nbconvert_exporter": "python",
   "pygments_lexer": "ipython3",
   "version": "3.6.10"
  }
 },
 "nbformat": 4,
 "nbformat_minor": 4
}
